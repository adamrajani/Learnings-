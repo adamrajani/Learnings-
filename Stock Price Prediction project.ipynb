{
 "cells": [
  {
   "cell_type": "code",
   "execution_count": 1,
   "metadata": {},
   "outputs": [],
   "source": [
    "#This program will use an artificial neural network called Long Short Term Memory (LSTM)\n",
    "#to predict the closing stock price of a corporation, in our case Apple, using the past \n",
    "#60 day stock price "
   ]
  },
  {
   "cell_type": "code",
   "execution_count": 5,
   "metadata": {},
   "outputs": [],
   "source": [
    "import math \n",
    "import pandas_datareader as web \n",
    "import numpy as np \n",
    "import pandas as pd \n",
    "from sklearn.preprocessing import MinMaxScaler \n",
    "from keras.models import Sequential\n",
    "from keras.layers import Dense, LSTM\n",
    "import matplotlib.pyplot as plt \n",
    "from datetime import datetime\n",
    "plt.style.use('fivethirtyeight')"
   ]
  },
  {
   "cell_type": "code",
   "execution_count": 7,
   "metadata": {},
   "outputs": [
    {
     "data": {
      "text/html": [
       "<div>\n",
       "<style scoped>\n",
       "    .dataframe tbody tr th:only-of-type {\n",
       "        vertical-align: middle;\n",
       "    }\n",
       "\n",
       "    .dataframe tbody tr th {\n",
       "        vertical-align: top;\n",
       "    }\n",
       "\n",
       "    .dataframe thead th {\n",
       "        text-align: right;\n",
       "    }\n",
       "</style>\n",
       "<table border=\"1\" class=\"dataframe\">\n",
       "  <thead>\n",
       "    <tr style=\"text-align: right;\">\n",
       "      <th></th>\n",
       "      <th>High</th>\n",
       "      <th>Low</th>\n",
       "      <th>Open</th>\n",
       "      <th>Close</th>\n",
       "      <th>Volume</th>\n",
       "      <th>Adj Close</th>\n",
       "    </tr>\n",
       "    <tr>\n",
       "      <th>Date</th>\n",
       "      <th></th>\n",
       "      <th></th>\n",
       "      <th></th>\n",
       "      <th></th>\n",
       "      <th></th>\n",
       "      <th></th>\n",
       "    </tr>\n",
       "  </thead>\n",
       "  <tbody>\n",
       "    <tr>\n",
       "      <th>2017-01-03</th>\n",
       "      <td>29.082500</td>\n",
       "      <td>28.690001</td>\n",
       "      <td>28.950001</td>\n",
       "      <td>29.037500</td>\n",
       "      <td>115127600.0</td>\n",
       "      <td>27.459938</td>\n",
       "    </tr>\n",
       "    <tr>\n",
       "      <th>2017-01-04</th>\n",
       "      <td>29.127501</td>\n",
       "      <td>28.937500</td>\n",
       "      <td>28.962500</td>\n",
       "      <td>29.004999</td>\n",
       "      <td>84472400.0</td>\n",
       "      <td>27.429203</td>\n",
       "    </tr>\n",
       "    <tr>\n",
       "      <th>2017-01-05</th>\n",
       "      <td>29.215000</td>\n",
       "      <td>28.952499</td>\n",
       "      <td>28.980000</td>\n",
       "      <td>29.152500</td>\n",
       "      <td>88774400.0</td>\n",
       "      <td>27.568691</td>\n",
       "    </tr>\n",
       "    <tr>\n",
       "      <th>2017-01-06</th>\n",
       "      <td>29.540001</td>\n",
       "      <td>29.117500</td>\n",
       "      <td>29.195000</td>\n",
       "      <td>29.477501</td>\n",
       "      <td>127007600.0</td>\n",
       "      <td>27.876030</td>\n",
       "    </tr>\n",
       "    <tr>\n",
       "      <th>2017-01-09</th>\n",
       "      <td>29.857500</td>\n",
       "      <td>29.485001</td>\n",
       "      <td>29.487499</td>\n",
       "      <td>29.747499</td>\n",
       "      <td>134247600.0</td>\n",
       "      <td>28.131361</td>\n",
       "    </tr>\n",
       "    <tr>\n",
       "      <th>...</th>\n",
       "      <td>...</td>\n",
       "      <td>...</td>\n",
       "      <td>...</td>\n",
       "      <td>...</td>\n",
       "      <td>...</td>\n",
       "      <td>...</td>\n",
       "    </tr>\n",
       "    <tr>\n",
       "      <th>2021-02-08</th>\n",
       "      <td>136.960007</td>\n",
       "      <td>134.919998</td>\n",
       "      <td>136.029999</td>\n",
       "      <td>136.910004</td>\n",
       "      <td>71297200.0</td>\n",
       "      <td>136.910004</td>\n",
       "    </tr>\n",
       "    <tr>\n",
       "      <th>2021-02-09</th>\n",
       "      <td>137.880005</td>\n",
       "      <td>135.850006</td>\n",
       "      <td>136.619995</td>\n",
       "      <td>136.009995</td>\n",
       "      <td>76774200.0</td>\n",
       "      <td>136.009995</td>\n",
       "    </tr>\n",
       "    <tr>\n",
       "      <th>2021-02-10</th>\n",
       "      <td>136.990005</td>\n",
       "      <td>134.399994</td>\n",
       "      <td>136.479996</td>\n",
       "      <td>135.389999</td>\n",
       "      <td>73046600.0</td>\n",
       "      <td>135.389999</td>\n",
       "    </tr>\n",
       "    <tr>\n",
       "      <th>2021-02-11</th>\n",
       "      <td>136.389999</td>\n",
       "      <td>133.770004</td>\n",
       "      <td>135.899994</td>\n",
       "      <td>135.130005</td>\n",
       "      <td>64154400.0</td>\n",
       "      <td>135.130005</td>\n",
       "    </tr>\n",
       "    <tr>\n",
       "      <th>2021-02-12</th>\n",
       "      <td>135.529999</td>\n",
       "      <td>133.690002</td>\n",
       "      <td>134.350006</td>\n",
       "      <td>135.369995</td>\n",
       "      <td>60029300.0</td>\n",
       "      <td>135.369995</td>\n",
       "    </tr>\n",
       "  </tbody>\n",
       "</table>\n",
       "<p>1036 rows × 6 columns</p>\n",
       "</div>"
      ],
      "text/plain": [
       "                  High         Low        Open       Close       Volume  \\\n",
       "Date                                                                      \n",
       "2017-01-03   29.082500   28.690001   28.950001   29.037500  115127600.0   \n",
       "2017-01-04   29.127501   28.937500   28.962500   29.004999   84472400.0   \n",
       "2017-01-05   29.215000   28.952499   28.980000   29.152500   88774400.0   \n",
       "2017-01-06   29.540001   29.117500   29.195000   29.477501  127007600.0   \n",
       "2017-01-09   29.857500   29.485001   29.487499   29.747499  134247600.0   \n",
       "...                ...         ...         ...         ...          ...   \n",
       "2021-02-08  136.960007  134.919998  136.029999  136.910004   71297200.0   \n",
       "2021-02-09  137.880005  135.850006  136.619995  136.009995   76774200.0   \n",
       "2021-02-10  136.990005  134.399994  136.479996  135.389999   73046600.0   \n",
       "2021-02-11  136.389999  133.770004  135.899994  135.130005   64154400.0   \n",
       "2021-02-12  135.529999  133.690002  134.350006  135.369995   60029300.0   \n",
       "\n",
       "             Adj Close  \n",
       "Date                    \n",
       "2017-01-03   27.459938  \n",
       "2017-01-04   27.429203  \n",
       "2017-01-05   27.568691  \n",
       "2017-01-06   27.876030  \n",
       "2017-01-09   28.131361  \n",
       "...                ...  \n",
       "2021-02-08  136.910004  \n",
       "2021-02-09  136.009995  \n",
       "2021-02-10  135.389999  \n",
       "2021-02-11  135.130005  \n",
       "2021-02-12  135.369995  \n",
       "\n",
       "[1036 rows x 6 columns]"
      ]
     },
     "execution_count": 7,
     "metadata": {},
     "output_type": "execute_result"
    }
   ],
   "source": [
    "#get the stock quote and info \n",
    "df = web.DataReader('AAPL', data_source='yahoo', start='2017-01-01', end=datetime.today())\n",
    "df"
   ]
  },
  {
   "cell_type": "code",
   "execution_count": 8,
   "metadata": {},
   "outputs": [
    {
     "data": {
      "text/plain": [
       "(1036, 6)"
      ]
     },
     "execution_count": 8,
     "metadata": {},
     "output_type": "execute_result"
    }
   ],
   "source": [
    "#Lets see how many data observations we have \n",
    "df.shape "
   ]
  },
  {
   "cell_type": "code",
   "execution_count": 11,
   "metadata": {},
   "outputs": [
    {
     "data": {
      "text/plain": [
       "Text(0, 0.5, 'Close Price USD')"
      ]
     },
     "execution_count": 11,
     "metadata": {},
     "output_type": "execute_result"
    },
    {
     "data": {
      "image/png": "[encoded data removed]",
      "text/plain": [
       "<Figure size 1152x576 with 1 Axes>"
      ]
     },
     "metadata": {},
     "output_type": "display_data"
    }
   ],
   "source": [
    "#Visualize our closing price over the timeframe\n",
    "plt.figure(figsize=(16,8))\n",
    "plt.title('Close price of AAPL from 2017-Current')\n",
    "plt.plot(df['Close'])\n",
    "plt.xlabel('Date', fontsize=13)\n",
    "plt.ylabel('Close Price USD', fontsize=13)"
   ]
  },
  {
   "cell_type": "code",
   "execution_count": 12,
   "metadata": {},
   "outputs": [
    {
     "data": {
      "text/plain": [
       "829"
      ]
     },
     "execution_count": 12,
     "metadata": {},
     "output_type": "execute_result"
    }
   ],
   "source": [
    "#Create df for just the closing data and convert it to a numpy array \n",
    "data = df.filter(['Close'])\n",
    "dataset = data.values \n",
    "#get the number of rows to train the model on \n",
    "training_data_len = math.ceil(len(dataset)*0.8)\n",
    "training_data_len"
   ]
  },
  {
   "cell_type": "code",
   "execution_count": 13,
   "metadata": {},
   "outputs": [
    {
     "data": {
      "text/plain": [
       "array([[2.84711308e-04],\n",
       "       [0.00000000e+00],\n",
       "       [1.29211148e-03],\n",
       "       ...,\n",
       "       [9.31934616e-01],\n",
       "       [9.29657059e-01],\n",
       "       [9.31759378e-01]])"
      ]
     },
     "execution_count": 13,
     "metadata": {},
     "output_type": "execute_result"
    }
   ],
   "source": [
    "#scale the data \n",
    "#advantageous to apply pre-processing transformations, scaling, or normalizations to input data before it \n",
    "#is inputted into a neural network \n",
    "scaler = MinMaxScaler(feature_range=(0,1))\n",
    "scaled_data = scaler.fit_transform(dataset)\n",
    "scaled_data"
   ]
  },
  {
   "cell_type": "code",
   "execution_count": 15,
   "metadata": {},
   "outputs": [
    {
     "name": "stdout",
     "output_type": "stream",
     "text": [
      "[array([0.00028471, 0.        , 0.00129211, 0.00413912, 0.00650432,\n",
      "       0.00676712, 0.00816873, 0.00707372, 0.00661382, 0.00871623,\n",
      "       0.00869432, 0.00823442, 0.00871623, 0.00889143, 0.00865053,\n",
      "       0.01283343, 0.01296484, 0.01298673, 0.01228593, 0.01167273,\n",
      "       0.02787877, 0.02739696, 0.02860147, 0.03125136, 0.03396698,\n",
      "       0.03508387, 0.03591608, 0.03525907, 0.03782137, 0.04161011,\n",
      "       0.04268319, 0.04233281, 0.0431431 , 0.0452893 , 0.04618721,\n",
      "       0.044917  , 0.04520171, 0.04579299, 0.04592442, 0.05205641,\n",
      "       0.05023873, 0.05203452, 0.05107091, 0.05146513, 0.05032632,\n",
      "       0.0496255 , 0.05063292, 0.05076431, 0.05030443, 0.05352374,\n",
      "       0.05402743, 0.05249443, 0.05571374, 0.05216591, 0.05562612,\n",
      "       0.05453112, 0.05391792, 0.05444354, 0.06083835, 0.06153913])]\n",
      "[0.06112302337210834]\n",
      "\n",
      "[array([0.00028471, 0.        , 0.00129211, 0.00413912, 0.00650432,\n",
      "       0.00676712, 0.00816873, 0.00707372, 0.00661382, 0.00871623,\n",
      "       0.00869432, 0.00823442, 0.00871623, 0.00889143, 0.00865053,\n",
      "       0.01283343, 0.01296484, 0.01298673, 0.01228593, 0.01167273,\n",
      "       0.02787877, 0.02739696, 0.02860147, 0.03125136, 0.03396698,\n",
      "       0.03508387, 0.03591608, 0.03525907, 0.03782137, 0.04161011,\n",
      "       0.04268319, 0.04233281, 0.0431431 , 0.0452893 , 0.04618721,\n",
      "       0.044917  , 0.04520171, 0.04579299, 0.04592442, 0.05205641,\n",
      "       0.05023873, 0.05203452, 0.05107091, 0.05146513, 0.05032632,\n",
      "       0.0496255 , 0.05063292, 0.05076431, 0.05030443, 0.05352374,\n",
      "       0.05402743, 0.05249443, 0.05571374, 0.05216591, 0.05562612,\n",
      "       0.05453112, 0.05391792, 0.05444354, 0.06083835, 0.06153913]), array([0.        , 0.00129211, 0.00413912, 0.00650432, 0.00676712,\n",
      "       0.00816873, 0.00707372, 0.00661382, 0.00871623, 0.00869432,\n",
      "       0.00823442, 0.00871623, 0.00889143, 0.00865053, 0.01283343,\n",
      "       0.01296484, 0.01298673, 0.01228593, 0.01167273, 0.02787877,\n",
      "       0.02739696, 0.02860147, 0.03125136, 0.03396698, 0.03508387,\n",
      "       0.03591608, 0.03525907, 0.03782137, 0.04161011, 0.04268319,\n",
      "       0.04233281, 0.0431431 , 0.0452893 , 0.04618721, 0.044917  ,\n",
      "       0.04520171, 0.04579299, 0.04592442, 0.05205641, 0.05023873,\n",
      "       0.05203452, 0.05107091, 0.05146513, 0.05032632, 0.0496255 ,\n",
      "       0.05063292, 0.05076431, 0.05030443, 0.05352374, 0.05402743,\n",
      "       0.05249443, 0.05571374, 0.05216591, 0.05562612, 0.05453112,\n",
      "       0.05391792, 0.05444354, 0.06083835, 0.06153913, 0.06112302])]\n",
      "[0.06112302337210834, 0.06053174615467216]\n",
      "\n"
     ]
    }
   ],
   "source": [
    "#Create the training dataset \n",
    "#Create the scaled training dataset\n",
    "train_data = scaled_data[0:training_data_len]\n",
    "#Split the dataset into x_train and y_train datasets\n",
    "x_train=[]\n",
    "y_train=[]\n",
    "#x_trian will be the independent training features \n",
    "#y_train will be the depenndent variable/target variable\n",
    "\n",
    "for i in range(60, len(train_data)):\n",
    "    x_train.append(train_data[i-60:i,0])\n",
    "    y_train.append(train_data[i,0])\n",
    "    if i<= 60:\n",
    "        print(x_train)\n",
    "        print(y_train)\n",
    "        print()\n",
    "    \n",
    "        "
   ]
  },
  {
   "cell_type": "code",
   "execution_count": 16,
   "metadata": {},
   "outputs": [],
   "source": [
    "#Convert the x_train and y_train to np arrays so we can use them to train the LSTM model \n",
    "x_train, y_train = np.array(x_train), np.array(y_train)"
   ]
  },
  {
   "cell_type": "code",
   "execution_count": 18,
   "metadata": {},
   "outputs": [
    {
     "data": {
      "text/plain": [
       "(769, 60, 1)"
      ]
     },
     "execution_count": 18,
     "metadata": {},
     "output_type": "execute_result"
    }
   ],
   "source": [
    "#Reshape the data \n",
    "#Reshape because the LSTM network expects the input to be 3D in terms of #samples, #timesteps, #features\n",
    "#and right now our dataset is 2D\n",
    "x_train = np.reshape(x_train, (x_train.shape[0], x_train.shape[1], 1))\n",
    "x_train.shape"
   ]
  },
  {
   "cell_type": "code",
   "execution_count": 20,
   "metadata": {},
   "outputs": [],
   "source": [
    "#build the LSTM model \n",
    "model = Sequential()\n",
    "model.add(LSTM(50, return_sequences=True, input_shape=(x_train.shape[1],1)))\n",
    "model.add(LSTM(50, return_sequences=False,))\n",
    "model.add(Dense(25))\n",
    "model.add(Dense(1))"
   ]
  },
  {
   "cell_type": "code",
   "execution_count": 21,
   "metadata": {},
   "outputs": [],
   "source": [
    "#compile the model\n",
    "model.compile(optimizer='adam', loss='mean_squared_error')\n",
    "#optimizer improves the loss function\n",
    "#loss function measures how well the model did on training \n"
   ]
  },
  {
   "cell_type": "code",
   "execution_count": 22,
   "metadata": {},
   "outputs": [
    {
     "name": "stdout",
     "output_type": "stream",
     "text": [
      "769/769 [==============================] - 20s 23ms/step - loss: 0.0021\n"
     ]
    },
    {
     "data": {
      "text/plain": [
       "<tensorflow.python.keras.callbacks.History at 0x7fa264d88dc0>"
      ]
     },
     "execution_count": 22,
     "metadata": {},
     "output_type": "execute_result"
    }
   ],
   "source": [
    "#Train the mdoel \n",
    "model.fit(x_train, y_train, batch_size=1, epochs=1)\n",
    "#epochs is the numbe rof iterations when the entire dataset is passed forward and backward through a neural network"
   ]
  },
  {
   "cell_type": "code",
   "execution_count": 23,
   "metadata": {},
   "outputs": [],
   "source": [
    "#Create the testing dataset \n",
    "#Create a new array containing scaled values from the last 20% of our original data\n",
    "test_data = scaled_data[training_data_len-60:, :]\n",
    "#Create the datasets x_test and y_test \n",
    "x_test =[]\n",
    "y_test = dataset[training_data_len:, :]\n",
    "#y_test are the values that we want our model to predict \n",
    "for i in range(60, len(test_data)):\n",
    "    x_test.append(test_data[i-60:i,0])"
   ]
  },
  {
   "cell_type": "code",
   "execution_count": 24,
   "metadata": {},
   "outputs": [],
   "source": [
    "#Convert the data to a numpy array so we can use in the LSTM model\n",
    "x_test=np.array(x_test)"
   ]
  },
  {
   "cell_type": "code",
   "execution_count": 29,
   "metadata": {},
   "outputs": [
    {
     "data": {
      "text/plain": [
       "(207, 60, 1)"
      ]
     },
     "execution_count": 29,
     "metadata": {},
     "output_type": "execute_result"
    }
   ],
   "source": [
    "x_test=np.reshape(x_test, (x_test.shape[0], x_test.shape[1],1))\n",
    "x_test.shape"
   ]
  },
  {
   "cell_type": "code",
   "execution_count": 30,
   "metadata": {},
   "outputs": [],
   "source": [
    "#Get the model's predicted price values \n",
    "#We want the predictions to be the same as the y_test values because that shows the predictive capability \n",
    "#of the model\n",
    "predictions = model.predict(x_test)\n",
    "#we are inverse transforming to essentially unscale the values so we can compare it to our y_test values\n",
    "predictions = scaler.inverse_transform(predictions)"
   ]
  },
  {
   "cell_type": "code",
   "execution_count": 31,
   "metadata": {},
   "outputs": [
    {
     "data": {
      "text/plain": [
       "0.5018278112733997"
      ]
     },
     "execution_count": 31,
     "metadata": {},
     "output_type": "execute_result"
    }
   ],
   "source": [
    "#Evaluate the model by getting the root mean squared error (RMSE)\n",
    "#Stdev of the residuals \n",
    "#The lower values of RMSE indicate a better fit \n",
    "rmse = np.sqrt(np.mean(predictions-y_test)**2)\n",
    "rmse"
   ]
  },
  {
   "cell_type": "code",
   "execution_count": 33,
   "metadata": {},
   "outputs": [
    {
     "name": "stderr",
     "output_type": "stream",
     "text": [
      "<ipython-input-33-63e4309fdffa>:5: SettingWithCopyWarning: \n",
      "A value is trying to be set on a copy of a slice from a DataFrame.\n",
      "Try using .loc[row_indexer,col_indexer] = value instead\n",
      "\n",
      "See the caveats in the documentation: https://pandas.pydata.org/pandas-docs/stable/user_guide/indexing.html#returning-a-view-versus-a-copy\n",
      "  valid['Predictions']= predictions\n"
     ]
    },
    {
     "data": {
      "text/plain": [
       "<matplotlib.legend.Legend at 0x7fa247232430>"
      ]
     },
     "execution_count": 33,
     "metadata": {},
     "output_type": "execute_result"
    },
    {
     "data": {
      "image/png": "[encoded data removed]",
      "text/plain": [
       "<Figure size 1152x576 with 1 Axes>"
      ]
     },
     "metadata": {},
     "output_type": "display_data"
    }
   ],
   "source": [
    "#We have a rmse of 0.5 which is really good because a value of 0 would mean the predictions were exactly perfect\n",
    "#Plot the data now\n",
    "train= data[:training_data_len]\n",
    "valid= data[training_data_len:]\n",
    "valid['Predictions']= predictions\n",
    "#Visualize the data \n",
    "plt.figure(figsize=(16,8))\n",
    "plt.title('Neural net prediction model of AAPL from 2017-Current')\n",
    "plt.ylabel('Close Price USD', fontsize=16)\n",
    "plt.xlabel('Date', fontsize=16)\n",
    "plt.plot(train['Close'])\n",
    "plt.plot(valid[['Close','Predictions']])\n",
    "plt.legend(['Train','Val','Predictions'], loc='lower right')"
   ]
  },
  {
   "cell_type": "code",
   "execution_count": 34,
   "metadata": {},
   "outputs": [
    {
     "data": {
      "text/html": [
       "<div>\n",
       "<style scoped>\n",
       "    .dataframe tbody tr th:only-of-type {\n",
       "        vertical-align: middle;\n",
       "    }\n",
       "\n",
       "    .dataframe tbody tr th {\n",
       "        vertical-align: top;\n",
       "    }\n",
       "\n",
       "    .dataframe thead th {\n",
       "        text-align: right;\n",
       "    }\n",
       "</style>\n",
       "<table border=\"1\" class=\"dataframe\">\n",
       "  <thead>\n",
       "    <tr style=\"text-align: right;\">\n",
       "      <th></th>\n",
       "      <th>Close</th>\n",
       "      <th>Predictions</th>\n",
       "    </tr>\n",
       "    <tr>\n",
       "      <th>Date</th>\n",
       "      <th></th>\n",
       "      <th></th>\n",
       "    </tr>\n",
       "  </thead>\n",
       "  <tbody>\n",
       "    <tr>\n",
       "      <th>2020-04-21</th>\n",
       "      <td>67.092499</td>\n",
       "      <td>72.308937</td>\n",
       "    </tr>\n",
       "    <tr>\n",
       "      <th>2020-04-22</th>\n",
       "      <td>69.025002</td>\n",
       "      <td>72.432411</td>\n",
       "    </tr>\n",
       "    <tr>\n",
       "      <th>2020-04-23</th>\n",
       "      <td>68.757500</td>\n",
       "      <td>72.464516</td>\n",
       "    </tr>\n",
       "    <tr>\n",
       "      <th>2020-04-24</th>\n",
       "      <td>70.742500</td>\n",
       "      <td>72.399689</td>\n",
       "    </tr>\n",
       "    <tr>\n",
       "      <th>2020-04-27</th>\n",
       "      <td>70.792503</td>\n",
       "      <td>72.466560</td>\n",
       "    </tr>\n",
       "    <tr>\n",
       "      <th>...</th>\n",
       "      <td>...</td>\n",
       "      <td>...</td>\n",
       "    </tr>\n",
       "    <tr>\n",
       "      <th>2021-02-08</th>\n",
       "      <td>136.910004</td>\n",
       "      <td>134.783493</td>\n",
       "    </tr>\n",
       "    <tr>\n",
       "      <th>2021-02-09</th>\n",
       "      <td>136.009995</td>\n",
       "      <td>134.737320</td>\n",
       "    </tr>\n",
       "    <tr>\n",
       "      <th>2021-02-10</th>\n",
       "      <td>135.389999</td>\n",
       "      <td>134.655991</td>\n",
       "    </tr>\n",
       "    <tr>\n",
       "      <th>2021-02-11</th>\n",
       "      <td>135.130005</td>\n",
       "      <td>134.510193</td>\n",
       "    </tr>\n",
       "    <tr>\n",
       "      <th>2021-02-12</th>\n",
       "      <td>135.369995</td>\n",
       "      <td>134.322433</td>\n",
       "    </tr>\n",
       "  </tbody>\n",
       "</table>\n",
       "<p>207 rows × 2 columns</p>\n",
       "</div>"
      ],
      "text/plain": [
       "                 Close  Predictions\n",
       "Date                               \n",
       "2020-04-21   67.092499    72.308937\n",
       "2020-04-22   69.025002    72.432411\n",
       "2020-04-23   68.757500    72.464516\n",
       "2020-04-24   70.742500    72.399689\n",
       "2020-04-27   70.792503    72.466560\n",
       "...                ...          ...\n",
       "2021-02-08  136.910004   134.783493\n",
       "2021-02-09  136.009995   134.737320\n",
       "2021-02-10  135.389999   134.655991\n",
       "2021-02-11  135.130005   134.510193\n",
       "2021-02-12  135.369995   134.322433\n",
       "\n",
       "[207 rows x 2 columns]"
      ]
     },
     "execution_count": 34,
     "metadata": {},
     "output_type": "execute_result"
    }
   ],
   "source": [
    "#Show the valid and predicted prices \n",
    "valid"
   ]
  },
  {
   "cell_type": "code",
   "execution_count": 40,
   "metadata": {},
   "outputs": [
    {
     "name": "stdout",
     "output_type": "stream",
     "text": [
      "[[134.1559]]\n"
     ]
    }
   ],
   "source": [
    "#Lets try and predict the stock price of a specific day\n",
    "apple_quote = web.DataReader('AAPL', data_source='yahoo', start='2017-01-01', end='2021-04-12')\n",
    "#Create a new dataframe\n",
    "new_df=apple_quote.filter(['Close'])\n",
    "#Get the last 60 day closing price values and convert the dataframe to an array \n",
    "last_60_days = new_df[-60:].values\n",
    "#Scale the data to be values between 0 and 1\n",
    "last_60_days_scaled = scaler.transform(last_60_days)\n",
    "#Create an empty list\n",
    "X_test=[]\n",
    "#Append the last 60 days to this list \n",
    "X_test.append(last_60_days_scaled)\n",
    "#Convert the X_test dataset to a np array \n",
    "X_test= np.array(X_test)\n",
    "#reshape it \n",
    "X_test = np.reshape(X_test, (X_test.shape[0],X_test.shape[1],1))\n",
    "#Get the predicted scaled price \n",
    "pred_price=model.predict(X_test)\n",
    "#undo the scaling\n",
    "pred_price= scaler.inverse_transform(pred_price)\n",
    "print(pred_price)"
   ]
  },
  {
   "cell_type": "code",
   "execution_count": 42,
   "metadata": {},
   "outputs": [
    {
     "name": "stdout",
     "output_type": "stream",
     "text": [
      "Date\n",
      "2021-02-12    135.369995\n",
      "2021-02-12    135.369995\n",
      "Name: Close, dtype: float64\n"
     ]
    }
   ],
   "source": [
    "apple_quote2 = web.DataReader('AAPL', data_source='yahoo', start='2021-02-12', end='2021-02-12')\n",
    "print(apple_quote2['Close'])"
   ]
  },
  {
   "cell_type": "code",
   "execution_count": null,
   "metadata": {},
   "outputs": [],
   "source": []
  }
 ],
 "metadata": {
  "kernelspec": {
   "display_name": "Python 3",
   "language": "python",
   "name": "python3"
  },
  "language_info": {
   "codemirror_mode": {
    "name": "ipython",
    "version": 3
   },
   "file_extension": ".py",
   "mimetype": "text/x-python",
   "name": "python",
   "nbconvert_exporter": "python",
   "pygments_lexer": "ipython3",
   "version": "3.8.5"
  }
 },
 "nbformat": 4,
 "nbformat_minor": 4
}
